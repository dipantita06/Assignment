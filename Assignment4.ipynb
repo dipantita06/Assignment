{
 "cells": [
  {
   "cell_type": "code",
   "execution_count": 1,
   "metadata": {},
   "outputs": [
    {
     "data": {
      "text/plain": [
       "43.30127018922193"
      ]
     },
     "execution_count": 1,
     "metadata": {},
     "output_type": "execute_result"
    }
   ],
   "source": [
    "#sollution for question no1.1\n",
    "class Triangle:\n",
    "    def __init__(self,a,b,c):\n",
    "        self.side1=a\n",
    "        self.side2=b\n",
    "        self.side3=c\n",
    "        \n",
    "class Area(Triangle):\n",
    "    def __init__(self,*args):\n",
    "        super(Area,self).__init__(*args)\n",
    "        \n",
    "    def area_triangle(self):\n",
    "        s=(self.side1+self.side2+self.side3)/2\n",
    "        area=(s*(s-self.side1)*(s-self.side2)*(s-self.side3))**.5\n",
    "        return area\n",
    "        \n",
    "triangle=Area(10,10,10)\n",
    "triangle.area_triangle()"
   ]
  },
  {
   "cell_type": "code",
   "execution_count": 2,
   "metadata": {},
   "outputs": [
    {
     "data": {
      "text/plain": [
       "['hjjfkfn', 'hfbbsn', 'hhhhh']"
      ]
     },
     "execution_count": 2,
     "metadata": {},
     "output_type": "execute_result"
    }
   ],
   "source": [
    "#sollution for question no1.2\n",
    "def filter_words(lst,n):\n",
    "    new_lst=[i for i in lst if len(i)>n]\n",
    "    return new_lst\n",
    "\n",
    "    \n",
    "    \n",
    "l=[\"hjjfkfn\",\"hfbbsn\",'hhhhh','gh',\"ghf\"]\n",
    "filter_words(l,3)"
   ]
  },
  {
   "cell_type": "code",
   "execution_count": 3,
   "metadata": {},
   "outputs": [
    {
     "data": {
      "text/plain": [
       "[7, 6, 5, 2, 3]"
      ]
     },
     "execution_count": 3,
     "metadata": {},
     "output_type": "execute_result"
    }
   ],
   "source": [
    "#sollution for question no2.1\n",
    "def len_list(lst):\n",
    "    new_lst=[len(i) for i in lst]\n",
    "    return new_lst\n",
    "\n",
    "\n",
    "l=[\"hjjfkfn\",\"hfbbsn\",'hhhhh','gh',\"ghf\"]\n",
    "len_list(l)"
   ]
  },
  {
   "cell_type": "code",
   "execution_count": 4,
   "metadata": {},
   "outputs": [
    {
     "data": {
      "text/plain": [
       "False"
      ]
     },
     "execution_count": 4,
     "metadata": {},
     "output_type": "execute_result"
    }
   ],
   "source": [
    "#sollution for question no2.2\n",
    "def check_vowel(a):\n",
    "    vowel=[\"a\",\"e\",\"i\",\"o\",\"u\"]\n",
    "    if len(a)==1:\n",
    "        if a in vowel:\n",
    "            return True\n",
    "        else:\n",
    "            return False\n",
    "    else:\n",
    "        return \"The length of string should be one.Try again\"\n",
    "\n",
    "check_vowel(\"g\")"
   ]
  },
  {
   "cell_type": "code",
   "execution_count": 5,
   "metadata": {},
   "outputs": [
    {
     "data": {
      "text/plain": [
       "'The length of string should be one.Try again'"
      ]
     },
     "execution_count": 5,
     "metadata": {},
     "output_type": "execute_result"
    }
   ],
   "source": [
    "check_vowel(\"ac\")"
   ]
  },
  {
   "cell_type": "code",
   "execution_count": null,
   "metadata": {},
   "outputs": [],
   "source": []
  }
 ],
 "metadata": {
  "kernelspec": {
   "display_name": "Python 3",
   "language": "python",
   "name": "python3"
  },
  "language_info": {
   "codemirror_mode": {
    "name": "ipython",
    "version": 3
   },
   "file_extension": ".py",
   "mimetype": "text/x-python",
   "name": "python",
   "nbconvert_exporter": "python",
   "pygments_lexer": "ipython3",
   "version": "3.7.4"
  }
 },
 "nbformat": 4,
 "nbformat_minor": 2
}
